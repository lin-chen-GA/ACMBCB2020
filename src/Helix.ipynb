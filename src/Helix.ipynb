{
 "cells": [
  {
   "cell_type": "markdown",
   "metadata": {},
   "source": [
    "### <center>SSE Classifier</center>"
   ]
  },
  {
   "cell_type": "markdown",
   "metadata": {},
   "source": [
    "#### <span style = \"color:red\">Get the Data</span>"
   ]
  },
  {
   "cell_type": "code",
   "execution_count": 97,
   "metadata": {},
   "outputs": [],
   "source": [
    "import numpy as np\n",
    "import pandas as pd\n",
    "\n",
    "data = pd.read_csv('../data_5.csv')"
   ]
  },
  {
   "cell_type": "code",
   "execution_count": 98,
   "metadata": {},
   "outputs": [],
   "source": [
    "data = data.drop(['Cryo', 'PDB', 'Cryo Type', 'neighbor trees', 'Peak Level', 'Size Cutoff >'], axis = 1)\n",
    "columns = {'Map Resolution': 'Resolution', 'vTree#':'Tree_N', 'numOfVoxels': 'Voxel_N', 'numberOfNeighbors':'N_Neighbors', 'Max Density':'Max_density', 'MinDensity':'Min_density', 'AvgDensity':'Avg_density', 'stdDensity':'Std_density', 'Percentage of voxels within 1 std':'1_std', 'Percentage of voxels within 2 std':'2_std', 'PCA_EigenValue1':'PCA_1', 'PCA_EigenValue2':'PCA_2', 'PCA_EigenValue3':'PCA_3', 'PCA Thickness Ratio ev1/ev2':'Thick_R_12', 'PCA Thickness Ratio ev2/ev3':'Thick_R_23', 'Structure Tensor Helix (Percentage)':'Tensor_helix', 'Structure Tensor Sheet (Percentage)':'Tensor_sheet', 'Percentage of voxels with density less than average':'Per_voxel', 'Radius of Gyration':'R_Gyr', 'Width':'Width', 'Hlx overlap (percentage)':'Hlx_Per', 'Strand overlap (percentage)':'Sheet_Per', 'Loop overlap (percentage)':'Loop_Per', 'Unknown (percentage) - most likely outside protein model (noise)':'Unknown'}\n",
    "data = data.rename(columns=columns)"
   ]
  },
  {
   "cell_type": "code",
   "execution_count": 99,
   "metadata": {},
   "outputs": [],
   "source": [
    "temp = data[['Hlx_Per', 'Sheet_Per', 'Loop_Per', 'Unknown']]\n",
    "max_Per = np.max(temp, axis=1)\n",
    "#temp.shape, max_Per.shape\n",
    "data['Max_Per'] = max_Per\n",
    "data.head()\n",
    "threshold = 0.9 # select data whose maximum overlap percentage is greater than a threshold\n",
    "data = data[data['Max_Per'] > threshold]\n",
    "data = data.drop(['Hlx_Per', 'Sheet_Per', 'Loop_Per', 'Unknown', 'Max_Per'], axis = 1)"
   ]
  },
  {
   "cell_type": "code",
   "execution_count": 100,
   "metadata": {},
   "outputs": [
    {
     "data": {
      "text/html": [
       "<div>\n",
       "<style scoped>\n",
       "    .dataframe tbody tr th:only-of-type {\n",
       "        vertical-align: middle;\n",
       "    }\n",
       "\n",
       "    .dataframe tbody tr th {\n",
       "        vertical-align: top;\n",
       "    }\n",
       "\n",
       "    .dataframe thead th {\n",
       "        text-align: right;\n",
       "    }\n",
       "</style>\n",
       "<table border=\"1\" class=\"dataframe\">\n",
       "  <thead>\n",
       "    <tr style=\"text-align: right;\">\n",
       "      <th></th>\n",
       "      <th>Resolution</th>\n",
       "      <th>Tree_N</th>\n",
       "      <th>Voxel_N</th>\n",
       "      <th>N_Neighbors</th>\n",
       "      <th>Max_density</th>\n",
       "      <th>Min_density</th>\n",
       "      <th>Avg_density</th>\n",
       "      <th>Std_density</th>\n",
       "      <th>1_std</th>\n",
       "      <th>2_std</th>\n",
       "      <th>...</th>\n",
       "      <th>PCA_2</th>\n",
       "      <th>PCA_3</th>\n",
       "      <th>Thick_R_12</th>\n",
       "      <th>Thick_R_23</th>\n",
       "      <th>Tensor_helix</th>\n",
       "      <th>Tensor_sheet</th>\n",
       "      <th>Per_voxel</th>\n",
       "      <th>R_Gyr</th>\n",
       "      <th>Width</th>\n",
       "      <th>Label</th>\n",
       "    </tr>\n",
       "  </thead>\n",
       "  <tbody>\n",
       "    <tr>\n",
       "      <th>1</th>\n",
       "      <td>5.6</td>\n",
       "      <td>73</td>\n",
       "      <td>125</td>\n",
       "      <td>6</td>\n",
       "      <td>0.65</td>\n",
       "      <td>0.51</td>\n",
       "      <td>0.57</td>\n",
       "      <td>0.04</td>\n",
       "      <td>0.62</td>\n",
       "      <td>0.98</td>\n",
       "      <td>...</td>\n",
       "      <td>5.79</td>\n",
       "      <td>2.31</td>\n",
       "      <td>1.60</td>\n",
       "      <td>2.51</td>\n",
       "      <td>0.50</td>\n",
       "      <td>0.50</td>\n",
       "      <td>0.53</td>\n",
       "      <td>4.2</td>\n",
       "      <td>5.16151</td>\n",
       "      <td>Loop</td>\n",
       "    </tr>\n",
       "    <tr>\n",
       "      <th>3</th>\n",
       "      <td>5.6</td>\n",
       "      <td>103</td>\n",
       "      <td>92</td>\n",
       "      <td>4</td>\n",
       "      <td>0.65</td>\n",
       "      <td>0.46</td>\n",
       "      <td>0.54</td>\n",
       "      <td>0.04</td>\n",
       "      <td>0.62</td>\n",
       "      <td>0.98</td>\n",
       "      <td>...</td>\n",
       "      <td>3.60</td>\n",
       "      <td>2.27</td>\n",
       "      <td>2.05</td>\n",
       "      <td>1.58</td>\n",
       "      <td>0.45</td>\n",
       "      <td>0.55</td>\n",
       "      <td>0.52</td>\n",
       "      <td>3.7</td>\n",
       "      <td>3.64974</td>\n",
       "      <td>Loop</td>\n",
       "    </tr>\n",
       "    <tr>\n",
       "      <th>5</th>\n",
       "      <td>5.6</td>\n",
       "      <td>116</td>\n",
       "      <td>78</td>\n",
       "      <td>4</td>\n",
       "      <td>0.60</td>\n",
       "      <td>0.46</td>\n",
       "      <td>0.52</td>\n",
       "      <td>0.03</td>\n",
       "      <td>0.60</td>\n",
       "      <td>0.99</td>\n",
       "      <td>...</td>\n",
       "      <td>2.56</td>\n",
       "      <td>1.57</td>\n",
       "      <td>5.50</td>\n",
       "      <td>1.63</td>\n",
       "      <td>0.54</td>\n",
       "      <td>0.46</td>\n",
       "      <td>0.50</td>\n",
       "      <td>4.3</td>\n",
       "      <td>2.10718</td>\n",
       "      <td>Loop</td>\n",
       "    </tr>\n",
       "    <tr>\n",
       "      <th>6</th>\n",
       "      <td>5.6</td>\n",
       "      <td>102</td>\n",
       "      <td>94</td>\n",
       "      <td>5</td>\n",
       "      <td>0.62</td>\n",
       "      <td>0.49</td>\n",
       "      <td>0.54</td>\n",
       "      <td>0.03</td>\n",
       "      <td>0.64</td>\n",
       "      <td>0.96</td>\n",
       "      <td>...</td>\n",
       "      <td>3.11</td>\n",
       "      <td>2.04</td>\n",
       "      <td>3.35</td>\n",
       "      <td>1.53</td>\n",
       "      <td>0.46</td>\n",
       "      <td>0.54</td>\n",
       "      <td>0.50</td>\n",
       "      <td>4.0</td>\n",
       "      <td>4.47000</td>\n",
       "      <td>Loop</td>\n",
       "    </tr>\n",
       "    <tr>\n",
       "      <th>7</th>\n",
       "      <td>5.6</td>\n",
       "      <td>66</td>\n",
       "      <td>132</td>\n",
       "      <td>3</td>\n",
       "      <td>0.66</td>\n",
       "      <td>0.49</td>\n",
       "      <td>0.55</td>\n",
       "      <td>0.04</td>\n",
       "      <td>0.62</td>\n",
       "      <td>0.97</td>\n",
       "      <td>...</td>\n",
       "      <td>4.63</td>\n",
       "      <td>3.38</td>\n",
       "      <td>1.49</td>\n",
       "      <td>1.37</td>\n",
       "      <td>0.67</td>\n",
       "      <td>0.33</td>\n",
       "      <td>0.55</td>\n",
       "      <td>3.9</td>\n",
       "      <td>5.16151</td>\n",
       "      <td>Helix</td>\n",
       "    </tr>\n",
       "  </tbody>\n",
       "</table>\n",
       "<p>5 rows × 21 columns</p>\n",
       "</div>"
      ],
      "text/plain": [
       "   Resolution  Tree_N  Voxel_N  N_Neighbors  Max_density  Min_density  \\\n",
       "1         5.6      73      125            6         0.65         0.51   \n",
       "3         5.6     103       92            4         0.65         0.46   \n",
       "5         5.6     116       78            4         0.60         0.46   \n",
       "6         5.6     102       94            5         0.62         0.49   \n",
       "7         5.6      66      132            3         0.66         0.49   \n",
       "\n",
       "   Avg_density  Std_density  1_std  2_std  ...  PCA_2  PCA_3  Thick_R_12  \\\n",
       "1         0.57         0.04   0.62   0.98  ...   5.79   2.31        1.60   \n",
       "3         0.54         0.04   0.62   0.98  ...   3.60   2.27        2.05   \n",
       "5         0.52         0.03   0.60   0.99  ...   2.56   1.57        5.50   \n",
       "6         0.54         0.03   0.64   0.96  ...   3.11   2.04        3.35   \n",
       "7         0.55         0.04   0.62   0.97  ...   4.63   3.38        1.49   \n",
       "\n",
       "   Thick_R_23  Tensor_helix  Tensor_sheet  Per_voxel  R_Gyr    Width  Label  \n",
       "1        2.51          0.50          0.50       0.53    4.2  5.16151   Loop  \n",
       "3        1.58          0.45          0.55       0.52    3.7  3.64974   Loop  \n",
       "5        1.63          0.54          0.46       0.50    4.3  2.10718   Loop  \n",
       "6        1.53          0.46          0.54       0.50    4.0  4.47000   Loop  \n",
       "7        1.37          0.67          0.33       0.55    3.9  5.16151  Helix  \n",
       "\n",
       "[5 rows x 21 columns]"
      ]
     },
     "execution_count": 100,
     "metadata": {},
     "output_type": "execute_result"
    }
   ],
   "source": [
    "data.head()"
   ]
  },
  {
   "cell_type": "code",
   "execution_count": 101,
   "metadata": {},
   "outputs": [],
   "source": [
    "data = data.loc[(data['Thick_R_12'] > 0) & (data['Thick_R_23'] > 0) & (data['Resolution'] >= 5.3), :] # remove the negative Thick_R_12 and Thick_R_23"
   ]
  },
  {
   "cell_type": "code",
   "execution_count": 102,
   "metadata": {},
   "outputs": [
    {
     "name": "stdout",
     "output_type": "stream",
     "text": [
      "(2026, 21) (784, 21) (590, 21) (239, 21)\n"
     ]
    }
   ],
   "source": [
    "data_Helix = data[data['Label'] == 'Helix']\n",
    "data_Sheet = data[data['Label'] == 'Sheet']\n",
    "data_Loop = data[data['Label'] == 'Loop']\n",
    "data_Unknown = data[data['Label'] == 'Unknown']\n",
    "\n",
    "print(data_Helix.shape, data_Sheet.shape, data_Loop.shape, data_Unknown.shape)"
   ]
  },
  {
   "cell_type": "code",
   "execution_count": 103,
   "metadata": {},
   "outputs": [],
   "source": [
    "data_Helix = data_Helix.sample(n = 1000, random_state = 42)\n",
    "data_Sheet = data_Sheet.sample(n = 500, random_state = 42)\n",
    "data_Loop = data_Loop.sample(n = 500, random_state = 42)"
   ]
  },
  {
   "cell_type": "code",
   "execution_count": 104,
   "metadata": {},
   "outputs": [],
   "source": [
    "data = pd.concat([data_Helix, data_Sheet, data_Loop])"
   ]
  },
  {
   "cell_type": "code",
   "execution_count": 105,
   "metadata": {},
   "outputs": [
    {
     "data": {
      "text/html": [
       "<div>\n",
       "<style scoped>\n",
       "    .dataframe tbody tr th:only-of-type {\n",
       "        vertical-align: middle;\n",
       "    }\n",
       "\n",
       "    .dataframe tbody tr th {\n",
       "        vertical-align: top;\n",
       "    }\n",
       "\n",
       "    .dataframe thead th {\n",
       "        text-align: right;\n",
       "    }\n",
       "</style>\n",
       "<table border=\"1\" class=\"dataframe\">\n",
       "  <thead>\n",
       "    <tr style=\"text-align: right;\">\n",
       "      <th></th>\n",
       "      <th>Resolution</th>\n",
       "      <th>Tree_N</th>\n",
       "      <th>Voxel_N</th>\n",
       "      <th>N_Neighbors</th>\n",
       "      <th>Max_density</th>\n",
       "      <th>Min_density</th>\n",
       "      <th>Avg_density</th>\n",
       "      <th>Std_density</th>\n",
       "      <th>1_std</th>\n",
       "      <th>2_std</th>\n",
       "      <th>...</th>\n",
       "      <th>PCA_2</th>\n",
       "      <th>PCA_3</th>\n",
       "      <th>Thick_R_12</th>\n",
       "      <th>Thick_R_23</th>\n",
       "      <th>Tensor_helix</th>\n",
       "      <th>Tensor_sheet</th>\n",
       "      <th>Per_voxel</th>\n",
       "      <th>R_Gyr</th>\n",
       "      <th>Width</th>\n",
       "      <th>Label</th>\n",
       "    </tr>\n",
       "  </thead>\n",
       "  <tbody>\n",
       "    <tr>\n",
       "      <th>7040</th>\n",
       "      <td>7.7</td>\n",
       "      <td>6</td>\n",
       "      <td>72</td>\n",
       "      <td>3</td>\n",
       "      <td>0.61</td>\n",
       "      <td>0.43</td>\n",
       "      <td>0.49</td>\n",
       "      <td>0.05</td>\n",
       "      <td>0.67</td>\n",
       "      <td>0.94</td>\n",
       "      <td>...</td>\n",
       "      <td>3.70</td>\n",
       "      <td>2.65</td>\n",
       "      <td>2.10</td>\n",
       "      <td>1.40</td>\n",
       "      <td>0.75</td>\n",
       "      <td>0.25</td>\n",
       "      <td>0.60</td>\n",
       "      <td>3.8</td>\n",
       "      <td>3.75659</td>\n",
       "      <td>Helix</td>\n",
       "    </tr>\n",
       "    <tr>\n",
       "      <th>4833</th>\n",
       "      <td>6.6</td>\n",
       "      <td>428</td>\n",
       "      <td>59</td>\n",
       "      <td>2</td>\n",
       "      <td>0.52</td>\n",
       "      <td>0.44</td>\n",
       "      <td>0.47</td>\n",
       "      <td>0.03</td>\n",
       "      <td>0.59</td>\n",
       "      <td>1.00</td>\n",
       "      <td>...</td>\n",
       "      <td>1.93</td>\n",
       "      <td>1.52</td>\n",
       "      <td>1.58</td>\n",
       "      <td>1.27</td>\n",
       "      <td>0.20</td>\n",
       "      <td>0.80</td>\n",
       "      <td>0.54</td>\n",
       "      <td>2.6</td>\n",
       "      <td>3.67696</td>\n",
       "      <td>Helix</td>\n",
       "    </tr>\n",
       "    <tr>\n",
       "      <th>8285</th>\n",
       "      <td>6.8</td>\n",
       "      <td>16</td>\n",
       "      <td>142</td>\n",
       "      <td>5</td>\n",
       "      <td>0.83</td>\n",
       "      <td>0.71</td>\n",
       "      <td>0.76</td>\n",
       "      <td>0.03</td>\n",
       "      <td>0.68</td>\n",
       "      <td>0.96</td>\n",
       "      <td>...</td>\n",
       "      <td>5.34</td>\n",
       "      <td>3.24</td>\n",
       "      <td>4.63</td>\n",
       "      <td>1.65</td>\n",
       "      <td>0.68</td>\n",
       "      <td>0.32</td>\n",
       "      <td>0.54</td>\n",
       "      <td>5.8</td>\n",
       "      <td>3.11769</td>\n",
       "      <td>Helix</td>\n",
       "    </tr>\n",
       "    <tr>\n",
       "      <th>3591</th>\n",
       "      <td>8.2</td>\n",
       "      <td>31</td>\n",
       "      <td>148</td>\n",
       "      <td>3</td>\n",
       "      <td>0.69</td>\n",
       "      <td>0.48</td>\n",
       "      <td>0.58</td>\n",
       "      <td>0.05</td>\n",
       "      <td>0.57</td>\n",
       "      <td>0.98</td>\n",
       "      <td>...</td>\n",
       "      <td>5.62</td>\n",
       "      <td>2.19</td>\n",
       "      <td>1.25</td>\n",
       "      <td>2.57</td>\n",
       "      <td>0.48</td>\n",
       "      <td>0.52</td>\n",
       "      <td>0.54</td>\n",
       "      <td>3.9</td>\n",
       "      <td>4.23745</td>\n",
       "      <td>Helix</td>\n",
       "    </tr>\n",
       "    <tr>\n",
       "      <th>7062</th>\n",
       "      <td>5.9</td>\n",
       "      <td>37</td>\n",
       "      <td>140</td>\n",
       "      <td>2</td>\n",
       "      <td>0.65</td>\n",
       "      <td>0.47</td>\n",
       "      <td>0.53</td>\n",
       "      <td>0.04</td>\n",
       "      <td>0.68</td>\n",
       "      <td>0.95</td>\n",
       "      <td>...</td>\n",
       "      <td>4.02</td>\n",
       "      <td>3.29</td>\n",
       "      <td>3.34</td>\n",
       "      <td>1.22</td>\n",
       "      <td>0.53</td>\n",
       "      <td>0.47</td>\n",
       "      <td>0.61</td>\n",
       "      <td>4.6</td>\n",
       "      <td>3.89469</td>\n",
       "      <td>Helix</td>\n",
       "    </tr>\n",
       "  </tbody>\n",
       "</table>\n",
       "<p>5 rows × 21 columns</p>\n",
       "</div>"
      ],
      "text/plain": [
       "      Resolution  Tree_N  Voxel_N  N_Neighbors  Max_density  Min_density  \\\n",
       "7040         7.7       6       72            3         0.61         0.43   \n",
       "4833         6.6     428       59            2         0.52         0.44   \n",
       "8285         6.8      16      142            5         0.83         0.71   \n",
       "3591         8.2      31      148            3         0.69         0.48   \n",
       "7062         5.9      37      140            2         0.65         0.47   \n",
       "\n",
       "      Avg_density  Std_density  1_std  2_std  ...  PCA_2  PCA_3  Thick_R_12  \\\n",
       "7040         0.49         0.05   0.67   0.94  ...   3.70   2.65        2.10   \n",
       "4833         0.47         0.03   0.59   1.00  ...   1.93   1.52        1.58   \n",
       "8285         0.76         0.03   0.68   0.96  ...   5.34   3.24        4.63   \n",
       "3591         0.58         0.05   0.57   0.98  ...   5.62   2.19        1.25   \n",
       "7062         0.53         0.04   0.68   0.95  ...   4.02   3.29        3.34   \n",
       "\n",
       "      Thick_R_23  Tensor_helix  Tensor_sheet  Per_voxel  R_Gyr    Width  Label  \n",
       "7040        1.40          0.75          0.25       0.60    3.8  3.75659  Helix  \n",
       "4833        1.27          0.20          0.80       0.54    2.6  3.67696  Helix  \n",
       "8285        1.65          0.68          0.32       0.54    5.8  3.11769  Helix  \n",
       "3591        2.57          0.48          0.52       0.54    3.9  4.23745  Helix  \n",
       "7062        1.22          0.53          0.47       0.61    4.6  3.89469  Helix  \n",
       "\n",
       "[5 rows x 21 columns]"
      ]
     },
     "execution_count": 105,
     "metadata": {},
     "output_type": "execute_result"
    }
   ],
   "source": [
    "data.head()"
   ]
  },
  {
   "cell_type": "code",
   "execution_count": 106,
   "metadata": {},
   "outputs": [
    {
     "data": {
      "text/html": [
       "<div>\n",
       "<style scoped>\n",
       "    .dataframe tbody tr th:only-of-type {\n",
       "        vertical-align: middle;\n",
       "    }\n",
       "\n",
       "    .dataframe tbody tr th {\n",
       "        vertical-align: top;\n",
       "    }\n",
       "\n",
       "    .dataframe thead th {\n",
       "        text-align: right;\n",
       "    }\n",
       "</style>\n",
       "<table border=\"1\" class=\"dataframe\">\n",
       "  <thead>\n",
       "    <tr style=\"text-align: right;\">\n",
       "      <th></th>\n",
       "      <th>Resolution</th>\n",
       "      <th>Tree_N</th>\n",
       "      <th>Voxel_N</th>\n",
       "      <th>N_Neighbors</th>\n",
       "      <th>Max_density</th>\n",
       "      <th>Min_density</th>\n",
       "      <th>Avg_density</th>\n",
       "      <th>Std_density</th>\n",
       "      <th>1_std</th>\n",
       "      <th>2_std</th>\n",
       "      <th>PCA_1</th>\n",
       "      <th>PCA_2</th>\n",
       "      <th>PCA_3</th>\n",
       "      <th>Thick_R_12</th>\n",
       "      <th>Thick_R_23</th>\n",
       "      <th>Tensor_helix</th>\n",
       "      <th>Tensor_sheet</th>\n",
       "      <th>Per_voxel</th>\n",
       "      <th>R_Gyr</th>\n",
       "      <th>Width</th>\n",
       "    </tr>\n",
       "  </thead>\n",
       "  <tbody>\n",
       "    <tr>\n",
       "      <th>count</th>\n",
       "      <td>2000.000000</td>\n",
       "      <td>2000.000000</td>\n",
       "      <td>2000.000000</td>\n",
       "      <td>2000.000000</td>\n",
       "      <td>2000.000000</td>\n",
       "      <td>2000.00000</td>\n",
       "      <td>2000.000000</td>\n",
       "      <td>2000.000000</td>\n",
       "      <td>2000.000000</td>\n",
       "      <td>2000.000000</td>\n",
       "      <td>2000.000000</td>\n",
       "      <td>2000.000000</td>\n",
       "      <td>2000.000000</td>\n",
       "      <td>2000.000000</td>\n",
       "      <td>2000.000000</td>\n",
       "      <td>2000.000000</td>\n",
       "      <td>2000.000000</td>\n",
       "      <td>2000.000000</td>\n",
       "      <td>2000.000000</td>\n",
       "      <td>2000.000000</td>\n",
       "    </tr>\n",
       "    <tr>\n",
       "      <th>mean</th>\n",
       "      <td>6.596505</td>\n",
       "      <td>72.440000</td>\n",
       "      <td>142.287500</td>\n",
       "      <td>3.018000</td>\n",
       "      <td>0.614765</td>\n",
       "      <td>0.47268</td>\n",
       "      <td>0.537585</td>\n",
       "      <td>0.034410</td>\n",
       "      <td>0.644580</td>\n",
       "      <td>0.970815</td>\n",
       "      <td>11.846435</td>\n",
       "      <td>3.805920</td>\n",
       "      <td>2.004520</td>\n",
       "      <td>3.093380</td>\n",
       "      <td>2.006230</td>\n",
       "      <td>0.521315</td>\n",
       "      <td>0.478780</td>\n",
       "      <td>0.528455</td>\n",
       "      <td>4.010950</td>\n",
       "      <td>4.278968</td>\n",
       "    </tr>\n",
       "    <tr>\n",
       "      <th>std</th>\n",
       "      <td>1.152843</td>\n",
       "      <td>90.319412</td>\n",
       "      <td>123.635354</td>\n",
       "      <td>1.608095</td>\n",
       "      <td>0.095115</td>\n",
       "      <td>0.06681</td>\n",
       "      <td>0.074264</td>\n",
       "      <td>0.014665</td>\n",
       "      <td>0.039236</td>\n",
       "      <td>0.018096</td>\n",
       "      <td>13.166563</td>\n",
       "      <td>2.264189</td>\n",
       "      <td>0.986833</td>\n",
       "      <td>2.875554</td>\n",
       "      <td>0.910073</td>\n",
       "      <td>0.184466</td>\n",
       "      <td>0.184445</td>\n",
       "      <td>0.044098</td>\n",
       "      <td>1.462335</td>\n",
       "      <td>1.800141</td>\n",
       "    </tr>\n",
       "    <tr>\n",
       "      <th>min</th>\n",
       "      <td>5.500000</td>\n",
       "      <td>1.000000</td>\n",
       "      <td>10.000000</td>\n",
       "      <td>0.000000</td>\n",
       "      <td>0.230000</td>\n",
       "      <td>0.19000</td>\n",
       "      <td>0.210000</td>\n",
       "      <td>0.000000</td>\n",
       "      <td>0.460000</td>\n",
       "      <td>0.870000</td>\n",
       "      <td>0.440000</td>\n",
       "      <td>0.410000</td>\n",
       "      <td>0.120000</td>\n",
       "      <td>0.270000</td>\n",
       "      <td>0.350000</td>\n",
       "      <td>0.000000</td>\n",
       "      <td>0.000000</td>\n",
       "      <td>0.330000</td>\n",
       "      <td>1.300000</td>\n",
       "      <td>0.000000</td>\n",
       "    </tr>\n",
       "    <tr>\n",
       "      <th>25%</th>\n",
       "      <td>5.800000</td>\n",
       "      <td>18.000000</td>\n",
       "      <td>54.000000</td>\n",
       "      <td>2.000000</td>\n",
       "      <td>0.550000</td>\n",
       "      <td>0.43000</td>\n",
       "      <td>0.490000</td>\n",
       "      <td>0.020000</td>\n",
       "      <td>0.620000</td>\n",
       "      <td>0.960000</td>\n",
       "      <td>4.720000</td>\n",
       "      <td>2.390000</td>\n",
       "      <td>1.290000</td>\n",
       "      <td>1.687500</td>\n",
       "      <td>1.420000</td>\n",
       "      <td>0.390000</td>\n",
       "      <td>0.360000</td>\n",
       "      <td>0.500000</td>\n",
       "      <td>3.100000</td>\n",
       "      <td>3.180000</td>\n",
       "    </tr>\n",
       "    <tr>\n",
       "      <th>50%</th>\n",
       "      <td>5.900000</td>\n",
       "      <td>38.000000</td>\n",
       "      <td>110.000000</td>\n",
       "      <td>3.000000</td>\n",
       "      <td>0.610000</td>\n",
       "      <td>0.46000</td>\n",
       "      <td>0.530000</td>\n",
       "      <td>0.030000</td>\n",
       "      <td>0.640000</td>\n",
       "      <td>0.970000</td>\n",
       "      <td>8.130000</td>\n",
       "      <td>3.440000</td>\n",
       "      <td>1.960000</td>\n",
       "      <td>2.285000</td>\n",
       "      <td>1.760000</td>\n",
       "      <td>0.500000</td>\n",
       "      <td>0.500000</td>\n",
       "      <td>0.530000</td>\n",
       "      <td>3.800000</td>\n",
       "      <td>3.914430</td>\n",
       "    </tr>\n",
       "    <tr>\n",
       "      <th>75%</th>\n",
       "      <td>7.000000</td>\n",
       "      <td>84.000000</td>\n",
       "      <td>196.000000</td>\n",
       "      <td>4.000000</td>\n",
       "      <td>0.670000</td>\n",
       "      <td>0.51000</td>\n",
       "      <td>0.580000</td>\n",
       "      <td>0.040000</td>\n",
       "      <td>0.670000</td>\n",
       "      <td>0.980000</td>\n",
       "      <td>13.585000</td>\n",
       "      <td>4.750000</td>\n",
       "      <td>2.590000</td>\n",
       "      <td>3.380000</td>\n",
       "      <td>2.260000</td>\n",
       "      <td>0.640000</td>\n",
       "      <td>0.610000</td>\n",
       "      <td>0.560000</td>\n",
       "      <td>4.700000</td>\n",
       "      <td>4.941770</td>\n",
       "    </tr>\n",
       "    <tr>\n",
       "      <th>max</th>\n",
       "      <td>10.000000</td>\n",
       "      <td>488.000000</td>\n",
       "      <td>1252.000000</td>\n",
       "      <td>10.000000</td>\n",
       "      <td>0.950000</td>\n",
       "      <td>0.78000</td>\n",
       "      <td>0.870000</td>\n",
       "      <td>0.090000</td>\n",
       "      <td>0.850000</td>\n",
       "      <td>1.000000</td>\n",
       "      <td>211.190000</td>\n",
       "      <td>31.670000</td>\n",
       "      <td>7.970000</td>\n",
       "      <td>49.870000</td>\n",
       "      <td>10.440000</td>\n",
       "      <td>1.000000</td>\n",
       "      <td>1.000000</td>\n",
       "      <td>0.710000</td>\n",
       "      <td>14.900000</td>\n",
       "      <td>17.490000</td>\n",
       "    </tr>\n",
       "  </tbody>\n",
       "</table>\n",
       "</div>"
      ],
      "text/plain": [
       "        Resolution       Tree_N      Voxel_N  N_Neighbors  Max_density  \\\n",
       "count  2000.000000  2000.000000  2000.000000  2000.000000  2000.000000   \n",
       "mean      6.596505    72.440000   142.287500     3.018000     0.614765   \n",
       "std       1.152843    90.319412   123.635354     1.608095     0.095115   \n",
       "min       5.500000     1.000000    10.000000     0.000000     0.230000   \n",
       "25%       5.800000    18.000000    54.000000     2.000000     0.550000   \n",
       "50%       5.900000    38.000000   110.000000     3.000000     0.610000   \n",
       "75%       7.000000    84.000000   196.000000     4.000000     0.670000   \n",
       "max      10.000000   488.000000  1252.000000    10.000000     0.950000   \n",
       "\n",
       "       Min_density  Avg_density  Std_density        1_std        2_std  \\\n",
       "count   2000.00000  2000.000000  2000.000000  2000.000000  2000.000000   \n",
       "mean       0.47268     0.537585     0.034410     0.644580     0.970815   \n",
       "std        0.06681     0.074264     0.014665     0.039236     0.018096   \n",
       "min        0.19000     0.210000     0.000000     0.460000     0.870000   \n",
       "25%        0.43000     0.490000     0.020000     0.620000     0.960000   \n",
       "50%        0.46000     0.530000     0.030000     0.640000     0.970000   \n",
       "75%        0.51000     0.580000     0.040000     0.670000     0.980000   \n",
       "max        0.78000     0.870000     0.090000     0.850000     1.000000   \n",
       "\n",
       "             PCA_1        PCA_2        PCA_3   Thick_R_12   Thick_R_23  \\\n",
       "count  2000.000000  2000.000000  2000.000000  2000.000000  2000.000000   \n",
       "mean     11.846435     3.805920     2.004520     3.093380     2.006230   \n",
       "std      13.166563     2.264189     0.986833     2.875554     0.910073   \n",
       "min       0.440000     0.410000     0.120000     0.270000     0.350000   \n",
       "25%       4.720000     2.390000     1.290000     1.687500     1.420000   \n",
       "50%       8.130000     3.440000     1.960000     2.285000     1.760000   \n",
       "75%      13.585000     4.750000     2.590000     3.380000     2.260000   \n",
       "max     211.190000    31.670000     7.970000    49.870000    10.440000   \n",
       "\n",
       "       Tensor_helix  Tensor_sheet    Per_voxel        R_Gyr        Width  \n",
       "count   2000.000000   2000.000000  2000.000000  2000.000000  2000.000000  \n",
       "mean       0.521315      0.478780     0.528455     4.010950     4.278968  \n",
       "std        0.184466      0.184445     0.044098     1.462335     1.800141  \n",
       "min        0.000000      0.000000     0.330000     1.300000     0.000000  \n",
       "25%        0.390000      0.360000     0.500000     3.100000     3.180000  \n",
       "50%        0.500000      0.500000     0.530000     3.800000     3.914430  \n",
       "75%        0.640000      0.610000     0.560000     4.700000     4.941770  \n",
       "max        1.000000      1.000000     0.710000    14.900000    17.490000  "
      ]
     },
     "execution_count": 106,
     "metadata": {},
     "output_type": "execute_result"
    }
   ],
   "source": [
    "data.describe()"
   ]
  },
  {
   "cell_type": "markdown",
   "metadata": {},
   "source": [
    "#### <span style = \"color:red\">Discover and visualize the data to gain insights</span>"
   ]
  },
  {
   "cell_type": "code",
   "execution_count": 107,
   "metadata": {},
   "outputs": [
    {
     "data": {
      "text/plain": [
       "array([[<matplotlib.axes._subplots.AxesSubplot object at 0x1a2c6ee6d0>,\n",
       "        <matplotlib.axes._subplots.AxesSubplot object at 0x1a27cbf150>,\n",
       "        <matplotlib.axes._subplots.AxesSubplot object at 0x1a2cae8c10>,\n",
       "        <matplotlib.axes._subplots.AxesSubplot object at 0x1a2928d690>],\n",
       "       [<matplotlib.axes._subplots.AxesSubplot object at 0x1a27cd6350>,\n",
       "        <matplotlib.axes._subplots.AxesSubplot object at 0x1a27c8cf90>,\n",
       "        <matplotlib.axes._subplots.AxesSubplot object at 0x108b23e50>,\n",
       "        <matplotlib.axes._subplots.AxesSubplot object at 0x1a293bb650>],\n",
       "       [<matplotlib.axes._subplots.AxesSubplot object at 0x1a293c6110>,\n",
       "        <matplotlib.axes._subplots.AxesSubplot object at 0x1a2a112550>,\n",
       "        <matplotlib.axes._subplots.AxesSubplot object at 0x1a29414590>,\n",
       "        <matplotlib.axes._subplots.AxesSubplot object at 0x1a29539d90>],\n",
       "       [<matplotlib.axes._subplots.AxesSubplot object at 0x1a2904e5d0>,\n",
       "        <matplotlib.axes._subplots.AxesSubplot object at 0x1a28f08dd0>,\n",
       "        <matplotlib.axes._subplots.AxesSubplot object at 0x1a294b0610>,\n",
       "        <matplotlib.axes._subplots.AxesSubplot object at 0x1a2965fe10>],\n",
       "       [<matplotlib.axes._subplots.AxesSubplot object at 0x1a29eee650>,\n",
       "        <matplotlib.axes._subplots.AxesSubplot object at 0x1a29f20e50>,\n",
       "        <matplotlib.axes._subplots.AxesSubplot object at 0x1a29f62690>,\n",
       "        <matplotlib.axes._subplots.AxesSubplot object at 0x1a29f96e90>]],\n",
       "      dtype=object)"
      ]
     },
     "execution_count": 107,
     "metadata": {},
     "output_type": "execute_result"
    },
    {
     "data": {
      "image/png": "[encoded data removed]",
      "text/plain": [
       "<Figure size 1440x1080 with 20 Axes>"
      ]
     },
     "metadata": {
      "needs_background": "light"
     },
     "output_type": "display_data"
    }
   ],
   "source": [
    "data.hist(bins = 50, figsize = (20, 15))"
   ]
  },
  {
   "cell_type": "markdown",
   "metadata": {},
   "source": [
    "#### <span style = \"color:red\">Prepare Training Set and Test Set</span>"
   ]
  },
  {
   "cell_type": "code",
   "execution_count": 108,
   "metadata": {},
   "outputs": [],
   "source": [
    "data_X = data.iloc[:, 0:-1]\n",
    "data_Y = data.iloc[:, -1]"
   ]
  },
  {
   "cell_type": "code",
   "execution_count": 109,
   "metadata": {},
   "outputs": [],
   "source": [
    "import warnings\n",
    "warnings.filterwarnings('ignore')"
   ]
  },
  {
   "cell_type": "code",
   "execution_count": 110,
   "metadata": {},
   "outputs": [],
   "source": [
    "data_Y[data_Y == 'Helix'] =1\n",
    "data_Y[data_Y == 'Sheet'] =0\n",
    "data_Y[data_Y == 'Loop'] = 0"
   ]
  },
  {
   "cell_type": "code",
   "execution_count": 111,
   "metadata": {},
   "outputs": [],
   "source": [
    "from sklearn.model_selection import train_test_split\n",
    "train_X, test_X, train_Y, test_Y = train_test_split(data_X, data_Y, test_size=0.2, random_state=42, stratify = data_Y)\n",
    "train_Y = train_Y.astype(np.int64)\n",
    "test_Y = test_Y.astype(np.int64)"
   ]
  },
  {
   "cell_type": "code",
   "execution_count": 112,
   "metadata": {},
   "outputs": [],
   "source": [
    "import numpy as np\n",
    "from sklearn.model_selection import cross_val_score\n",
    "\n",
    "def cross_validation(model, X, Y, k = 10, metric = 'accuracy'):\n",
    "    scores = cross_val_score(model, X, Y, scoring=metric, cv = k);\n",
    "    return scores.mean(), scores.std()"
   ]
  },
  {
   "cell_type": "markdown",
   "metadata": {},
   "source": [
    "#### <span style = \"color:red\">Prepare the Data for Machine Learning Algorithms</span>"
   ]
  },
  {
   "cell_type": "code",
   "execution_count": 113,
   "metadata": {},
   "outputs": [],
   "source": [
    "# Select specific columns\n",
    "from sklearn.base import BaseEstimator, TransformerMixin\n",
    "class DataFrameSelector(BaseEstimator, TransformerMixin):\n",
    "    def __init__(self, attribute_names):\n",
    "        self.attribute_names = attribute_names\n",
    "    def fit(self, X, y=None):\n",
    "        return self\n",
    "    def transform(self, X):\n",
    "        return X[self.attribute_names]\n",
    "    \n",
    "# Create Pipeline for Numeric Columns\n",
    "from sklearn.pipeline import Pipeline\n",
    "from sklearn.impute import SimpleImputer\n",
    "from sklearn.preprocessing import StandardScaler\n",
    "from sklearn.preprocessing import QuantileTransformer\n",
    "\n",
    "left_pipeline = Pipeline([\n",
    "    (\"select_numeric\", DataFrameSelector(['Tree_N', 'Voxel_N', 'Max_density',\n",
    "       'Min_density', 'Std_density', '2_std', 'PCA_1',\n",
    "       'PCA_2', 'PCA_3', 'Thick_R_12', 'Thick_R_23', 'Tensor_helix',\n",
    "       'Tensor_sheet', 'Per_voxel', 'R_Gyr', 'Width'])),\n",
    "    (\"transform\", QuantileTransformer(n_quantiles=200, output_distribution='normal', random_state=42))\n",
    "])\n",
    "\n",
    "right_pipeline = Pipeline([\n",
    "    (\"select_numeric\", DataFrameSelector(['Resolution'])),\n",
    "])\n",
    "\n",
    "from sklearn.pipeline import FeatureUnion\n",
    "\n",
    "preprocess_pipeline = FeatureUnion(transformer_list=[\n",
    "        (\"left_pipeline\", left_pipeline),\n",
    "        (\"right_pipeline\", right_pipeline),\n",
    "    ])\n",
    "\n",
    "train_X = pd.DataFrame(preprocess_pipeline.fit_transform(train_X), columns=['Tree_N', 'Voxel_N', 'Max_density',\n",
    "       'Min_density', 'Std_density', '2_std', 'PCA_1',\n",
    "       'PCA_2', 'PCA_3', 'Thick_R_12', 'Thick_R_23', 'Tensor_helix',\n",
    "       'Tensor_sheet', 'Per_voxel', 'R_Gyr', 'Width', 'Resolution'])\n",
    "test_X = pd.DataFrame(preprocess_pipeline.transform(test_X), columns=['Tree_N', 'Voxel_N', 'Max_density',\n",
    "       'Min_density', 'Std_density', '2_std', 'PCA_1',\n",
    "       'PCA_2', 'PCA_3', 'Thick_R_12', 'Thick_R_23', 'Tensor_helix',\n",
    "       'Tensor_sheet', 'Per_voxel', 'R_Gyr', 'Width', 'Resolution'])\n"
   ]
  },
  {
   "cell_type": "code",
   "execution_count": 114,
   "metadata": {},
   "outputs": [
    {
     "data": {
      "text/plain": [
       "array([[<matplotlib.axes._subplots.AxesSubplot object at 0x1a2de8f910>,\n",
       "        <matplotlib.axes._subplots.AxesSubplot object at 0x1a2df70b50>,\n",
       "        <matplotlib.axes._subplots.AxesSubplot object at 0x1a2e0d0cd0>,\n",
       "        <matplotlib.axes._subplots.AxesSubplot object at 0x1a2e0e4990>],\n",
       "       [<matplotlib.axes._subplots.AxesSubplot object at 0x1a2ab38d10>,\n",
       "        <matplotlib.axes._subplots.AxesSubplot object at 0x1a2aac4e90>,\n",
       "        <matplotlib.axes._subplots.AxesSubplot object at 0x1a2ab73cd0>,\n",
       "        <matplotlib.axes._subplots.AxesSubplot object at 0x1a2ae41890>],\n",
       "       [<matplotlib.axes._subplots.AxesSubplot object at 0x1a2ae4b410>,\n",
       "        <matplotlib.axes._subplots.AxesSubplot object at 0x1a2ae7fd90>,\n",
       "        <matplotlib.axes._subplots.AxesSubplot object at 0x1a2aef6c50>,\n",
       "        <matplotlib.axes._subplots.AxesSubplot object at 0x1a2af2c910>],\n",
       "       [<matplotlib.axes._subplots.AxesSubplot object at 0x1a2af6ac90>,\n",
       "        <matplotlib.axes._subplots.AxesSubplot object at 0x1a2e51d950>,\n",
       "        <matplotlib.axes._subplots.AxesSubplot object at 0x1a2e55bcd0>,\n",
       "        <matplotlib.axes._subplots.AxesSubplot object at 0x1a2e595990>],\n",
       "       [<matplotlib.axes._subplots.AxesSubplot object at 0x1a2e5d3d10>,\n",
       "        <matplotlib.axes._subplots.AxesSubplot object at 0x1a2e60a9d0>,\n",
       "        <matplotlib.axes._subplots.AxesSubplot object at 0x1a2e648d50>,\n",
       "        <matplotlib.axes._subplots.AxesSubplot object at 0x1a2e67fa10>]],\n",
       "      dtype=object)"
      ]
     },
     "execution_count": 114,
     "metadata": {},
     "output_type": "execute_result"
    },
    {
     "data": {
      "image/png": "[encoded data removed]",
      "text/plain": [
       "<Figure size 1440x1080 with 20 Axes>"
      ]
     },
     "metadata": {
      "needs_background": "light"
     },
     "output_type": "display_data"
    }
   ],
   "source": [
    "train_X.hist(bins = 50, figsize = (20, 15))"
   ]
  },
  {
   "cell_type": "markdown",
   "metadata": {},
   "source": [
    "#### <span style=\"color:red\">Select Models</span>"
   ]
  },
  {
   "cell_type": "code",
   "execution_count": 115,
   "metadata": {},
   "outputs": [],
   "source": [
    "models = [] # save models\n",
    "model_names = ['RFT', 'LR', 'LinearSVM', 'SVM', 'KNN', 'ANN', 'XGBoost']\n",
    "\n",
    "from sklearn.ensemble import RandomForestClassifier\n",
    "models.append(RandomForestClassifier())\n",
    "\n",
    "from sklearn.linear_model import LogisticRegression\n",
    "models.append(LogisticRegression(solver='lbfgs', multi_class='multinomial'))\n",
    "\n",
    "from sklearn.svm import LinearSVC\n",
    "models.append(LinearSVC(loss=\"hinge\"))\n",
    "\n",
    "from sklearn.svm import SVC\n",
    "models.append(SVC())\n",
    "\n",
    "from sklearn.neighbors import KNeighborsClassifier\n",
    "models.append(KNeighborsClassifier())\n",
    "\n",
    "from sklearn.neural_network import MLPClassifier\n",
    "models.append(MLPClassifier())\n",
    "\n",
    "import xgboost\n",
    "models.append(xgboost.XGBClassifier())"
   ]
  },
  {
   "cell_type": "code",
   "execution_count": 116,
   "metadata": {},
   "outputs": [
    {
     "name": "stdout",
     "output_type": "stream",
     "text": [
      "RFT 0.72625 0.028885550020728346\n",
      "LR 0.701875 0.030368826533140866\n",
      "LinearSVM 0.7125 0.03411836015989045\n",
      "SVM 0.715625 0.03414697094911934\n",
      "KNN 0.701875 0.05491826312803418\n",
      "ANN 0.739375 0.038329370266154905\n",
      "XGBoost 0.74 0.03225871975140985\n"
     ]
    }
   ],
   "source": [
    "# accuracy\n",
    "for index, model in enumerate(models):\n",
    "    mean, std = cross_validation(model, train_X, train_Y, 10)\n",
    "    print(model_names[index], mean, std)"
   ]
  },
  {
   "cell_type": "code",
   "execution_count": 117,
   "metadata": {},
   "outputs": [
    {
     "name": "stdout",
     "output_type": "stream",
     "text": [
      "RFT 0.7281001420359049 0.04698695644965622\n",
      "LR 0.7016132715995492 0.03028836137944282\n",
      "LinearSVM 0.7062560229861712 0.033127895557037004\n",
      "SVM 0.7124057993902502 0.03565439252352748\n",
      "KNN 0.7014284856440637 0.05504302058144926\n",
      "ANN 0.7314112475017903 0.034797761926120156\n",
      "XGBoost 0.7392202624712978 0.03227777435993423\n"
     ]
    }
   ],
   "source": [
    "# f1\n",
    "for index, model in enumerate(models):\n",
    "    mean, std = cross_validation(model, train_X, train_Y, 10, metric = 'f1_macro')\n",
    "    print(model_names[index], mean, std)"
   ]
  },
  {
   "cell_type": "markdown",
   "metadata": {},
   "source": [
    "#### <span style = \"color:red\">Fine-Tune Models</span>"
   ]
  },
  {
   "cell_type": "code",
   "execution_count": 118,
   "metadata": {},
   "outputs": [],
   "source": [
    "from sklearn.model_selection import GridSearchCV"
   ]
  },
  {
   "cell_type": "code",
   "execution_count": 119,
   "metadata": {},
   "outputs": [
    {
     "name": "stdout",
     "output_type": "stream",
     "text": [
      "[0.73699139]\n"
     ]
    }
   ],
   "source": [
    "# Random Forest\n",
    "param_grid = [{'n_estimators': [1500], 'max_features': ['sqrt']}]\n",
    "grid_search = GridSearchCV(RandomForestClassifier(), param_grid, cv=10, scoring='f1_macro')\n",
    "grid_search.fit(train_X, train_Y)\n",
    "print(grid_search.cv_results_['mean_test_score'])\n",
    "rft_clf = grid_search.best_estimator_"
   ]
  },
  {
   "cell_type": "code",
   "execution_count": 120,
   "metadata": {},
   "outputs": [
    {
     "name": "stdout",
     "output_type": "stream",
     "text": [
      "[0.70690221 0.70572118 0.71511331 0.59769713 0.70690221 0.71927343\n",
      " 0.72555668 0.5164726  0.70817566 0.7090658  0.71522469 0.59440836\n",
      " 0.70817566 0.7242209  0.72622498 0.51769823 0.70817566 0.7124319\n",
      " 0.71461524 0.59257093 0.70817566 0.72618194 0.72693038 0.51704428]\n"
     ]
    }
   ],
   "source": [
    "# SVM\n",
    "param_grid = [{'C': [1.2, 1.4, 1.6], 'kernel': ['linear', 'poly', 'rbf', 'sigmoid'], 'gamma': ['scale', 'auto'] }]\n",
    "grid_search = GridSearchCV(SVC(), param_grid, cv=10, scoring='f1_macro')\n",
    "grid_search.fit(train_X, train_Y)\n",
    "print(grid_search.cv_results_['mean_test_score'])\n",
    "svm_clf = grid_search.best_estimator_"
   ]
  },
  {
   "cell_type": "code",
   "execution_count": 121,
   "metadata": {},
   "outputs": [
    {
     "name": "stdout",
     "output_type": "stream",
     "text": [
      "[0.73303122 0.72960169 0.74810074]\n"
     ]
    }
   ],
   "source": [
    "# MLP\n",
    "param_grid = [{'hidden_layer_sizes': [(100,), (50,), (150,)], 'activation': ['tanh']}]\n",
    "grid_search = GridSearchCV(MLPClassifier(), param_grid, cv=10, scoring='f1_macro')\n",
    "grid_search.fit(train_X, train_Y)\n",
    "print(grid_search.cv_results_['mean_test_score'])\n",
    "mlp_clf = grid_search.best_estimator_"
   ]
  },
  {
   "cell_type": "code",
   "execution_count": 122,
   "metadata": {},
   "outputs": [
    {
     "name": "stdout",
     "output_type": "stream",
     "text": [
      "[0.73922026 0.73832873 0.7475382 ]\n"
     ]
    }
   ],
   "source": [
    "# XGBoost\n",
    "param_grid = [{'eta': [0.2], 'n_estimators': [100, 200, 300], 'tree_method': ['auto']}]\n",
    "grid_search = GridSearchCV(xgboost.XGBClassifier(), param_grid, cv=10, scoring='f1_macro')\n",
    "grid_search.fit(train_X, train_Y)\n",
    "print(grid_search.cv_results_['mean_test_score'])\n",
    "xgboost_clf = grid_search.best_estimator_"
   ]
  },
  {
   "cell_type": "code",
   "execution_count": 123,
   "metadata": {},
   "outputs": [
    {
     "name": "stdout",
     "output_type": "stream",
     "text": [
      "[       nan 0.70159183        nan        nan 0.70161327        nan\n",
      "        nan 0.70224602        nan]\n"
     ]
    }
   ],
   "source": [
    "# Logistic Regression\n",
    "param_grid = [{'penalty': ['l1', 'l2', 'elasticnet'], 'C':[0.8, 1.0, 1.2]}]\n",
    "grid_search = GridSearchCV(LogisticRegression(solver='lbfgs', multi_class='multinomial'), param_grid, cv=10, scoring='f1_macro')\n",
    "grid_search.fit(train_X, train_Y)\n",
    "print(grid_search.cv_results_['mean_test_score'])\n",
    "lr_clf = grid_search.best_estimator_"
   ]
  },
  {
   "cell_type": "markdown",
   "metadata": {},
   "source": [
    "#### <span style = \"color:red\">Ensemble Models</span>"
   ]
  },
  {
   "cell_type": "code",
   "execution_count": 124,
   "metadata": {},
   "outputs": [],
   "source": [
    "# Voting\n",
    "from sklearn.ensemble import VotingClassifier\n",
    "#voting_clf = VotingClassifier(\n",
    "#    estimators=[('rft', rft_clf), ('svm', svm_clf), ('mlp', mlp_clf), ('xgboost', xgboost_clf)],\n",
    "#    voting='hard')\n",
    "\n",
    "#mean, std = cross_validation(voting_clf, train_X, train_Y, 10)\n",
    "#print(mean, std)"
   ]
  },
  {
   "cell_type": "code",
   "execution_count": 125,
   "metadata": {},
   "outputs": [],
   "source": [
    "# Stacking\n",
    "from sklearn.ensemble import StackingClassifier\n",
    "#estimators=[('rft', rft_clf), ('svm', svm_clf), ('mlp', mlp_clf), ('xgboost', xgboost_clf)]\n",
    "#stacking_clf = StackingClassifier(estimators=estimators, final_estimator=LogisticRegression())\n",
    "\n",
    "#mean, std = cross_validation(stacking_clf, train_X, train_Y, 10)\n",
    "#print(mean, std)"
   ]
  },
  {
   "cell_type": "markdown",
   "metadata": {},
   "source": [
    "#### <span style = \"color:red\">Evaluate System on the Test Set</span>"
   ]
  },
  {
   "cell_type": "code",
   "execution_count": 126,
   "metadata": {},
   "outputs": [],
   "source": [
    "#voting_clf = VotingClassifier(\n",
    "#    estimators=[('rft', rft_clf), ('svm', svm_clf), ('mlp', mlp_clf), ('xgboost', xgboost_clf)],\n",
    "#    voting='hard')\n",
    "#voting_clf.fit(train_X, train_Y)\n",
    "#y_test_pred = voting_clf.predict(test_X)\n",
    "\n",
    "estimators=[('rft', rft_clf), ('svm', svm_clf), ('mlp', mlp_clf), ('xgboost', xgboost_clf)]\n",
    "stacking_clf = StackingClassifier(estimators=estimators, final_estimator=LogisticRegression())\n",
    "\n",
    "stacking_clf.fit(train_X, train_Y)\n",
    "y_test_pred = stacking_clf.predict(test_X)"
   ]
  },
  {
   "cell_type": "code",
   "execution_count": 127,
   "metadata": {},
   "outputs": [
    {
     "name": "stdout",
     "output_type": "stream",
     "text": [
      "              precision    recall  f1-score   support\n",
      "\n",
      "  None-Helix       0.76      0.74      0.75       200\n",
      "       Helix       0.75      0.77      0.76       200\n",
      "\n",
      "    accuracy                           0.76       400\n",
      "   macro avg       0.76      0.76      0.76       400\n",
      "weighted avg       0.76      0.76      0.76       400\n",
      "\n"
     ]
    }
   ],
   "source": [
    "from sklearn.metrics import classification_report\n",
    "print(classification_report(test_Y, y_test_pred, target_names=['None-Helix', 'Helix']))"
   ]
  },
  {
   "cell_type": "markdown",
   "metadata": {},
   "source": [
    "#### <span style = \"color:red\">Reference</span>\n",
    "* <a href = \"https://xgboost.readthedocs.io/en/latest/index.html\">XGBoost</a>"
   ]
  }
 ],
 "metadata": {
  "kernelspec": {
   "display_name": "Python 3",
   "language": "python",
   "name": "python3"
  },
  "language_info": {
   "codemirror_mode": {
    "name": "ipython",
    "version": 3
   },
   "file_extension": ".py",
   "mimetype": "text/x-python",
   "name": "python",
   "nbconvert_exporter": "python",
   "pygments_lexer": "ipython3",
   "version": "3.7.6"
  }
 },
 "nbformat": 4,
 "nbformat_minor": 2
}
